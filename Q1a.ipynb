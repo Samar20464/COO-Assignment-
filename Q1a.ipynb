{
 "cells": [
  {
   "cell_type": "code",
   "execution_count": 34,
   "id": "2cb03a78",
   "metadata": {},
   "outputs": [],
   "source": [
    "import math as mth\n",
    "import numpy as np"
   ]
  },
  {
   "cell_type": "code",
   "execution_count": 35,
   "id": "44472adf",
   "metadata": {},
   "outputs": [],
   "source": [
    "#Differentiating w.r.t to x\n",
    "def dx(value):\n",
    "    return 6*value"
   ]
  },
  {
   "cell_type": "code",
   "execution_count": 36,
   "id": "fae45033",
   "metadata": {},
   "outputs": [],
   "source": [
    "#Differentiating w.r.t to \n",
    "def dy(value):\n",
    "    return 4*(value**3)"
   ]
  },
  {
   "cell_type": "code",
   "execution_count": 37,
   "id": "dcbe672b",
   "metadata": {},
   "outputs": [],
   "source": [
    "#writing in terms of f(x,y)\n",
    "def f(x,y):\n",
    "    return 3 * (x**2) + y**4"
   ]
  },
  {
   "cell_type": "code",
   "execution_count": 38,
   "id": "8e6169db",
   "metadata": {},
   "outputs": [],
   "source": [
    "#now grad of f is\n",
    "def gradf(x, y):\n",
    "    return np.array([6*x, 4*y**3])"
   ]
  },
  {
   "cell_type": "code",
   "execution_count": 39,
   "id": "917afff7",
   "metadata": {},
   "outputs": [],
   "source": [
    "#now hess of f is\n",
    "def hessf(x, y):\n",
    "    return np.array([[6, 0], [0, 12*y**2]])"
   ]
  },
  {
   "cell_type": "code",
   "execution_count": 40,
   "id": "e8966e25",
   "metadata": {},
   "outputs": [],
   "source": [
    "def backtracking(x,y,alpha,beta,x1,y1,new_points):\n",
    "    new_alpha = 1\n",
    "    while f(x-new_alpha*x1,y-new_alpha*y1) > f(x,y) - alpha*new_alpha*np.dot(gradf(x,y),new_points):\n",
    "        new_alpha = beta*new_alpha\n",
    "    return new_alpha"
   ]
  },
  {
   "cell_type": "code",
   "execution_count": 41,
   "id": "14a88fb8",
   "metadata": {},
   "outputs": [],
   "source": [
    "def step_gradient(x_point,y_point,learning_rate_alpha,learning_rate_beta,m,c):\n",
    "    point_x = 1\n",
    "    point_y = -2\n",
    "    new_points = gradf(x_point,y_point)\n",
    "    m1 = 1\n",
    "    c1 = -2\n",
    "    x = new_points[0]\n",
    "    y = new_points[1]\n",
    "    new_alpha = backtracking(x_point,y_point,learning_rate_alpha,learning_rate_beta,x,y,new_points)\n",
    "    m1 = m1 - new_alpha * x\n",
    "    c1 = c1 - new_alpha * y\n",
    "    new_m = m1\n",
    "    new_c = c1\n",
    "    return new_m,new_c"
   ]
  },
  {
   "cell_type": "code",
   "execution_count": 42,
   "id": "47f685cd",
   "metadata": {},
   "outputs": [],
   "source": [
    "def gd(x_point,y_point,learning_rate_alpha,learning_rate_beta,num_of_iterations):\n",
    "    m = 0\n",
    "    c = 0\n",
    "    for i in range(num_of_iterations):\n",
    "        m,c = step_gradient(x_point,y_point,learning_rate_alpha,learning_rate_beta,m,c);\n",
    "    return m,c;"
   ]
  },
  {
   "cell_type": "code",
   "execution_count": 43,
   "id": "132f3d7b",
   "metadata": {},
   "outputs": [],
   "source": [
    "def run():\n",
    "    learning_rate_alpha= 0.1\n",
    "    learning_rate_beta = 0.5 # from the question it is said that alpha which is learning rate \n",
    "    number_of_iteration = 1\n",
    "    x_point=1\n",
    "    y_point = -2\n",
    "    m,c= gd(x_point,y_point,learning_rate_alpha,learning_rate_beta,number_of_iteration)\n",
    "    print(\"Hence values are {} and  {}\".format(m,c))\n",
    "    print()\n",
    "    #Amount of work that is value new F(x,y)\n",
    "    print(\"Hence the values of f(x,y) is {} at point 1 and -2 for alpha 0.1 Beta 0.5\".format(f(m,c)))\n",
    "    "
   ]
  },
  {
   "cell_type": "code",
   "execution_count": 44,
   "id": "6b206f4f",
   "metadata": {},
   "outputs": [
    {
     "name": "stdout",
     "output_type": "stream",
     "text": [
      "Hence values are 0.625 and  0.0\n",
      "\n",
      "Hence the values of f(x,y) is 1.171875 at point 1 and -2 for alpha 0.1 Beta 0.5\n"
     ]
    }
   ],
   "source": [
    "run()"
   ]
  },
  {
   "cell_type": "code",
   "execution_count": null,
   "id": "f6e3ffeb",
   "metadata": {},
   "outputs": [],
   "source": []
  }
 ],
 "metadata": {
  "kernelspec": {
   "display_name": "Python 3 (ipykernel)",
   "language": "python",
   "name": "python3"
  },
  "language_info": {
   "codemirror_mode": {
    "name": "ipython",
    "version": 3
   },
   "file_extension": ".py",
   "mimetype": "text/x-python",
   "name": "python",
   "nbconvert_exporter": "python",
   "pygments_lexer": "ipython3",
   "version": "3.9.12"
  }
 },
 "nbformat": 4,
 "nbformat_minor": 5
}
