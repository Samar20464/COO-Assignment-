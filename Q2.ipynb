{
 "cells": [
  {
   "cell_type": "code",
   "execution_count": 1,
   "id": "15020704",
   "metadata": {},
   "outputs": [],
   "source": [
    "from math import exp"
   ]
  },
  {
   "cell_type": "code",
   "execution_count": 2,
   "id": "e3f74c29",
   "metadata": {},
   "outputs": [],
   "source": [
    "# Given, contrains\n",
    "# x − 5z = 1\n",
    "# y + z  = 4\n",
    "# \n",
    "def function(x,y,z):\n",
    "    x = (1 + 5 * z)\n",
    "    y = (4 - z)\n",
    "    return exp(x) + 2*(y**2) + 3*(z**2)"
   ]
  },
  {
   "cell_type": "code",
   "execution_count": 3,
   "id": "5a193e96",
   "metadata": {},
   "outputs": [],
   "source": [
    "#Now, writing the equation in terms of z of the function x and y\n",
    "# x = 1 + 5z\n",
    "# y = 4 - z"
   ]
  },
  {
   "cell_type": "code",
   "execution_count": 4,
   "id": "81197542",
   "metadata": {},
   "outputs": [],
   "source": [
    "def optimalx(value):\n",
    "    x = 1 + (5 * value)\n",
    "    return x"
   ]
  },
  {
   "cell_type": "code",
   "execution_count": 5,
   "id": "b64f203c",
   "metadata": {},
   "outputs": [],
   "source": [
    "def optimalY(value):\n",
    "    y = 4 - value\n",
    "    return y"
   ]
  },
  {
   "cell_type": "code",
   "execution_count": 6,
   "id": "f4412ef6",
   "metadata": {},
   "outputs": [],
   "source": [
    "# Now, writing the function from the above equation and differentiating"
   ]
  },
  {
   "cell_type": "code",
   "execution_count": 7,
   "id": "c85e808d",
   "metadata": {},
   "outputs": [],
   "source": [
    "def functionZ1(value): # here i have value instead of z\n",
    "    x = (1 + 5 * value)\n",
    "    y = (4 - value)\n",
    "    return 5 * exp(x) - 4 * y + 6 * value"
   ]
  },
  {
   "cell_type": "code",
   "execution_count": 8,
   "id": "6d0057d7",
   "metadata": {},
   "outputs": [],
   "source": [
    "def functionZ2(value):\n",
    "    x = (1 + 5 * value)\n",
    "    y = (4 - value)\n",
    "    return 25 * exp(x) + 10"
   ]
  },
  {
   "cell_type": "code",
   "execution_count": 9,
   "id": "7003aa13",
   "metadata": {},
   "outputs": [],
   "source": [
    "def OptimalSolution(z):\n",
    "    i =0\n",
    "    optimalSolution = 0\n",
    "    end = True\n",
    "    while 1:\n",
    "        firstDerivative = functionZ1(z) # getting the first derivative\n",
    "        secondDerivative = functionZ2(z) # getting the second derivative\n",
    "\n",
    "        new_z_point = z - firstDerivative/secondDerivative\n",
    "        if (abs(new_z_point - z) < 1e-16):break\n",
    "        z= new_z_point\n",
    "    optimalSolution = new_z_point\n",
    "    return optimalSolution"
   ]
  },
  {
   "cell_type": "code",
   "execution_count": 10,
   "id": "bad35b01",
   "metadata": {},
   "outputs": [
    {
     "name": "stdout",
     "output_type": "stream",
     "text": [
      "The optimal value of x and y and z  are 1.1448754019653749 and 3.971024919606925 and 0.02897508039307498\n",
      "Hence the our optimal value is 34.68264632934358\n"
     ]
    }
   ],
   "source": [
    "# given points x =1 , y = 4 and z = 0\n",
    "# but we only z so puting z value\n",
    "\n",
    "z = 0\n",
    "optimalZ = OptimalSolution(z)\n",
    "print(\"The optimal value of x and y and z  are {} and {} and {}\".format(optimalx(optimalZ),optimalY(optimalZ),optimalZ))\n",
    "x,y,z = optimalx(optimalZ),optimalY(optimalZ),optimalZ\n",
    "\n",
    "print(\"Hence the our optimal value is {}\".format(function(x,y,z)))"
   ]
  },
  {
   "cell_type": "code",
   "execution_count": null,
   "id": "f9c34ca7",
   "metadata": {},
   "outputs": [],
   "source": []
  }
 ],
 "metadata": {
  "kernelspec": {
   "display_name": "Python 3 (ipykernel)",
   "language": "python",
   "name": "python3"
  },
  "language_info": {
   "codemirror_mode": {
    "name": "ipython",
    "version": 3
   },
   "file_extension": ".py",
   "mimetype": "text/x-python",
   "name": "python",
   "nbconvert_exporter": "python",
   "pygments_lexer": "ipython3",
   "version": "3.9.12"
  }
 },
 "nbformat": 4,
 "nbformat_minor": 5
}
