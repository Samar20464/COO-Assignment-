{
 "cells": [
  {
   "cell_type": "code",
   "execution_count": 1,
   "id": "d6860792",
   "metadata": {},
   "outputs": [],
   "source": [
    "import math as mth\n",
    "import numpy as np"
   ]
  },
  {
   "cell_type": "code",
   "execution_count": 2,
   "id": "eae0c313",
   "metadata": {},
   "outputs": [],
   "source": [
    "#Differentiating w.r.t to x\n",
    "def dx(value):\n",
    "    return 6*value"
   ]
  },
  {
   "cell_type": "code",
   "execution_count": 3,
   "id": "a0ef46b0",
   "metadata": {},
   "outputs": [],
   "source": [
    "#Differentiating w.r.t to \n",
    "def dy(value):\n",
    "    return 4*(value**3)"
   ]
  },
  {
   "cell_type": "code",
   "execution_count": 4,
   "id": "7d82943f",
   "metadata": {},
   "outputs": [],
   "source": [
    "#writing in terms of f(x,y)\n",
    "def f(x,y):\n",
    "    return 3 * (x**2) + y**4"
   ]
  },
  {
   "cell_type": "code",
   "execution_count": 5,
   "id": "42112faf",
   "metadata": {},
   "outputs": [],
   "source": [
    "#now grad of f is\n",
    "def gradf(x, y):\n",
    "    return np.array([6*x, 4*y**3])"
   ]
  },
  {
   "cell_type": "code",
   "execution_count": 6,
   "id": "e3d82612",
   "metadata": {},
   "outputs": [],
   "source": [
    "#now hess of f is\n",
    "def hessf(x, y):\n",
    "    return np.array([[6, 0], [0, 12*y**2]])"
   ]
  },
  {
   "cell_type": "code",
   "execution_count": 7,
   "id": "2eaac0b9",
   "metadata": {},
   "outputs": [],
   "source": [
    "def backtracking(x,y,alpha,beta,x1,y1,new_points):\n",
    "    new_alpha = 1\n",
    "    while f(x-new_alpha*x1,y-new_alpha*y1) > f(x,y) - alpha*new_alpha*np.dot(gradf(x,y),new_points):\n",
    "        new_alpha = beta*new_alpha\n",
    "    return new_alpha"
   ]
  },
  {
   "cell_type": "code",
   "execution_count": 8,
   "id": "fad79ec3",
   "metadata": {},
   "outputs": [],
   "source": [
    "def newton_step_gradient(x_point,y_point,learning_rate_alpha,learning_rate_beta,m,c):\n",
    "    new_points = np.dot(np.linalg.inv(hessf(x_point,y_point)),gradf(x_point,y_point))\n",
    "    x1 = new_points[0]\n",
    "    y1 = new_points[1]\n",
    "    new_alpha = backtracking(x_point,y_point,learning_rate_alpha,learning_rate_beta,x1,y1,new_points)\n",
    "    x_point = x_point - new_alpha*x1\n",
    "    y_point = y_point - new_alpha*y1\n",
    "    return x_point,y_point"
   ]
  },
  {
   "cell_type": "code",
   "execution_count": 9,
   "id": "15c92234",
   "metadata": {},
   "outputs": [],
   "source": [
    "def nd(x_point,y_point,learning_rate_alpha,learning_rate_beta,num_of_iterations):\n",
    "    m = 0\n",
    "    c = 0\n",
    "    for i in range(num_of_iterations):\n",
    "        m,c = newton_step_gradient(x_point,y_point,learning_rate_alpha,learning_rate_beta,m,c);\n",
    "    return m,c;"
   ]
  },
  {
   "cell_type": "code",
   "execution_count": 10,
   "id": "9d0578b4",
   "metadata": {},
   "outputs": [],
   "source": [
    "def run():\n",
    "    learning_rate_alpha = 0.1 # from the question it is said that alpha which is learning rate \n",
    "    learning_rate_beta  = 0.5 # from the question it is said that beta which is learning rate\n",
    "    number_of_iteration = 1\n",
    "    x_point=   1\n",
    "    y_point = -2\n",
    "    m,c= nd(x_point,y_point,learning_rate_alpha,learning_rate_beta,number_of_iteration)\n",
    "    print(\"Hence the new  values of x and y {} and  {}\".format(m,c))\n",
    "    print()\n",
    "    print(\"Hence the values of f(x,y) is {} at point -1 and -2 for alpha 0.1 and beta 0.5\".format(f(m,c)))"
   ]
  },
  {
   "cell_type": "code",
   "execution_count": 11,
   "id": "f212eba2",
   "metadata": {},
   "outputs": [
    {
     "name": "stdout",
     "output_type": "stream",
     "text": [
      "Hence the new  values of x and y 0.0 and  -1.3333333333333335\n",
      "\n",
      "Hence the values of f(x,y) is 3.1604938271604954 at point -1 and -2 for alpha 0.1 and beta 0.5\n"
     ]
    }
   ],
   "source": [
    "run()"
   ]
  },
  {
   "cell_type": "code",
   "execution_count": null,
   "id": "85096a5e",
   "metadata": {},
   "outputs": [],
   "source": []
  },
  {
   "cell_type": "code",
   "execution_count": null,
   "id": "170ef05e",
   "metadata": {},
   "outputs": [],
   "source": []
  }
 ],
 "metadata": {
  "kernelspec": {
   "display_name": "Python 3 (ipykernel)",
   "language": "python",
   "name": "python3"
  },
  "language_info": {
   "codemirror_mode": {
    "name": "ipython",
    "version": 3
   },
   "file_extension": ".py",
   "mimetype": "text/x-python",
   "name": "python",
   "nbconvert_exporter": "python",
   "pygments_lexer": "ipython3",
   "version": "3.9.12"
  }
 },
 "nbformat": 4,
 "nbformat_minor": 5
}
